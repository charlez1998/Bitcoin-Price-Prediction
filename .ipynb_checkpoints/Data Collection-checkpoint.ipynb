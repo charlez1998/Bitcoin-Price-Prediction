{
 "cells": [
  {
   "cell_type": "code",
   "execution_count": 3,
   "metadata": {},
   "outputs": [],
   "source": [
    "import requests \n",
    "from bs4 import BeautifulSoup\n",
    "import pandas as pd\n",
    "import re"
   ]
  },
  {
   "cell_type": "code",
   "execution_count": 4,
   "metadata": {},
   "outputs": [],
   "source": [
    "def parse_strlist(sl):\n",
    "    clean = re.sub(\"[\\[\\],\\s]\",\"\",sl)\n",
    "    splitted = re.split(\"[\\'\\\"]\",clean)\n",
    "    values_only = [s for s in splitted if s != '']\n",
    "    return values_only"
   ]
  },
  {
   "cell_type": "code",
   "execution_count": 24,
   "metadata": {},
   "outputs": [],
   "source": [
    "def get_variable(url):\n",
    "    i = 0\n",
    "    while url[i] != \"-\":\n",
    "        i += 1 \n",
    "    return url[i+1:].split(\".\")[0].capitalize()"
   ]
  },
  {
   "cell_type": "markdown",
   "metadata": {},
   "source": [
    "## Scraper for Bitinfocharts"
   ]
  },
  {
   "cell_type": "code",
   "execution_count": 25,
   "metadata": {},
   "outputs": [],
   "source": [
    "def scrape(url):\n",
    "    response = requests.get(url)\n",
    "    soup = BeautifulSoup(response.text, 'html.parser')\n",
    "\n",
    "    scripts = soup.find_all('script')\n",
    "    for script in scripts:\n",
    "        if script.string == None:\n",
    "            pass \n",
    "        elif 'd = new Dygraph(document.getElementById(\"container\")' in script.string:\n",
    "            StrList = script.string\n",
    "            StrList = '[[' + StrList.split('[[')[-1]\n",
    "            StrList = StrList.split(']]')[0] +']]'\n",
    "            StrList = StrList.replace(\"new Date(\", '').replace(')','')\n",
    "            dataList = parse_strlist(StrList)\n",
    "    date = []\n",
    "    variable = []\n",
    "    for each in dataList:\n",
    "        if (dataList.index(each) % 2) == 0:\n",
    "            date.append(each)\n",
    "        else:\n",
    "            variable.append(each)\n",
    "\n",
    "    df = pd.DataFrame(list(zip(date, variable)), columns=[\"Date\", get_variable(url)])\n",
    "    return df"
   ]
  },
  {
   "cell_type": "code",
   "execution_count": 28,
   "metadata": {},
   "outputs": [],
   "source": [
    "df1 = scrape(\"https://bitinfocharts.com/comparison/bitcoin-tweets.html\")\n",
    "df2 = scrape('https://bitinfocharts.com/comparison/bitcoin-marketcap.html#3y')\n",
    "df3 = scrape(\"https://bitinfocharts.com/comparison/google_trends-btc.html#3y\")"
   ]
  },
  {
   "cell_type": "code",
   "execution_count": 27,
   "metadata": {},
   "outputs": [
    {
     "name": "stdout",
     "output_type": "stream",
     "text": [
      "            Date  Tweets\n",
      "0     2014/04/09    8193\n",
      "1     2014/04/10   15039\n",
      "2     2014/04/11   14907\n",
      "3     2014/04/12    7582\n",
      "4     2014/04/13   10674\n",
      "...          ...     ...\n",
      "2687  2021/08/17   98097\n",
      "2688  2021/08/18   96506\n",
      "2689  2021/08/19  102697\n",
      "2690  2021/08/20  113364\n",
      "2691  2021/08/21   32958\n",
      "\n",
      "[2692 rows x 2 columns]\n"
     ]
    }
   ],
   "source": [
    "print(df1)"
   ]
  },
  {
   "cell_type": "code",
   "execution_count": 29,
   "metadata": {},
   "outputs": [
    {
     "name": "stdout",
     "output_type": "stream",
     "text": [
      "            Date     Marketcap\n",
      "0     2010/07/17        169839\n",
      "1     2010/07/18        249761\n",
      "2     2010/07/19        295981\n",
      "3     2010/07/20        270546\n",
      "4     2010/07/21        265900\n",
      "...          ...           ...\n",
      "4048  2021/08/16  881412981081\n",
      "4049  2021/08/17  863609146048\n",
      "4050  2021/08/18  847906179819\n",
      "4051  2021/08/19  849347810034\n",
      "4052  2021/08/20  897321828386\n",
      "\n",
      "[4053 rows x 2 columns]\n"
     ]
    }
   ],
   "source": [
    "print(df2)"
   ]
  },
  {
   "cell_type": "code",
   "execution_count": 30,
   "metadata": {},
   "outputs": [
    {
     "name": "stdout",
     "output_type": "stream",
     "text": [
      "            Date      Btc\n",
      "0     2010/01/01     null\n",
      "1     2010/01/02     null\n",
      "2     2010/01/03     null\n",
      "3     2010/01/04     null\n",
      "4     2010/01/05     null\n",
      "...          ...      ...\n",
      "4238  2021/08/09  122.182\n",
      "4239  2021/08/10  115.487\n",
      "4240  2021/08/11  117.161\n",
      "4241  2021/08/12  108.793\n",
      "4242  2021/08/13  110.466\n",
      "\n",
      "[4243 rows x 2 columns]\n"
     ]
    }
   ],
   "source": [
    "print(df3)"
   ]
  },
  {
   "cell_type": "code",
   "execution_count": null,
   "metadata": {},
   "outputs": [],
   "source": []
  }
 ],
 "metadata": {
  "kernelspec": {
   "display_name": "Python 3",
   "language": "python",
   "name": "python3"
  },
  "language_info": {
   "codemirror_mode": {
    "name": "ipython",
    "version": 3
   },
   "file_extension": ".py",
   "mimetype": "text/x-python",
   "name": "python",
   "nbconvert_exporter": "python",
   "pygments_lexer": "ipython3",
   "version": "3.8.3"
  }
 },
 "nbformat": 4,
 "nbformat_minor": 4
}
