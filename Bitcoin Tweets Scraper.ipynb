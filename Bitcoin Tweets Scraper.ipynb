{
 "cells": [
  {
   "cell_type": "code",
   "execution_count": 1,
   "metadata": {},
   "outputs": [],
   "source": [
    "import requests \n",
    "from bs4 import BeautifulSoup\n",
    "import pandas as pd\n",
    "import re"
   ]
  },
  {
   "cell_type": "code",
   "execution_count": 2,
   "metadata": {},
   "outputs": [],
   "source": [
    "def parse_strlist(sl):\n",
    "    clean = re.sub(\"[\\[\\],\\s]\",\"\",sl)\n",
    "    splitted = re.split(\"[\\'\\\"]\",clean)\n",
    "    values_only = [s for s in splitted if s != '']\n",
    "    return values_only"
   ]
  },
  {
   "cell_type": "code",
   "execution_count": 82,
   "metadata": {},
   "outputs": [],
   "source": [
    "url = 'https://bitinfocharts.com/comparison/bitcoin-tweets.html'\n",
    "response = requests.get(url)\n",
    "soup = BeautifulSoup(response.text, 'html.parser')\n",
    "\n",
    "scripts = soup.find_all('script')\n",
    "for script in scripts:\n",
    "    if script.string == None:\n",
    "        pass \n",
    "    elif 'd = new Dygraph(document.getElementById(\"container\")' in script.string:\n",
    "        StrList = script.string\n",
    "        StrList = '[[' + StrList.split('[[')[-1]\n",
    "        StrList = StrList.split(']]')[0] +']]'\n",
    "        StrList = StrList.replace(\"new Date(\", '').replace(')','')\n",
    "        dataList = parse_strlist(StrList)"
   ]
  },
  {
   "cell_type": "code",
   "execution_count": 80,
   "metadata": {},
   "outputs": [],
   "source": [
    "date = []\n",
    "tweet = []\n",
    "for each in dataList:\n",
    "    if (dataList.index(each) % 2) == 0:\n",
    "        date.append(each)\n",
    "    else:\n",
    "        tweet.append(each)\n",
    "\n",
    "df = pd.DataFrame(list(zip(date, tweet)), columns=[\"Date\",\"Decred - Tweets\"])"
   ]
  },
  {
   "cell_type": "code",
   "execution_count": 81,
   "metadata": {},
   "outputs": [
    {
     "name": "stdout",
     "output_type": "stream",
     "text": [
      "            Date Decred - Tweets\n",
      "0     2014/04/09            8193\n",
      "1     2014/04/10           15039\n",
      "2     2014/04/11           14907\n",
      "3     2014/04/12            7582\n",
      "4     2014/04/13           10674\n",
      "...          ...             ...\n",
      "2685  2021/08/15           77118\n",
      "2686  2021/08/16           99378\n",
      "2687  2021/08/17           98097\n",
      "2688  2021/08/18           96506\n",
      "2689  2021/08/19           91115\n",
      "\n",
      "[2690 rows x 2 columns]\n"
     ]
    }
   ],
   "source": [
    "print(df)"
   ]
  },
  {
   "cell_type": "code",
   "execution_count": null,
   "metadata": {},
   "outputs": [],
   "source": []
  }
 ],
 "metadata": {
  "kernelspec": {
   "display_name": "Python 3",
   "language": "python",
   "name": "python3"
  },
  "language_info": {
   "codemirror_mode": {
    "name": "ipython",
    "version": 3
   },
   "file_extension": ".py",
   "mimetype": "text/x-python",
   "name": "python",
   "nbconvert_exporter": "python",
   "pygments_lexer": "ipython3",
   "version": "3.8.3"
  }
 },
 "nbformat": 4,
 "nbformat_minor": 4
}
